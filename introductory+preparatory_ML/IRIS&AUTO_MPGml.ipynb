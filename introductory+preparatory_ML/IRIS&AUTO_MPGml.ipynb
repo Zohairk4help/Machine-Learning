{
 "cells": [
  {
   "cell_type": "markdown",
   "id": "12c7b91f",
   "metadata": {},
   "source": [
    "# A. Loading Dataset from ScikitLearn\n",
    "Step 1\n",
    "Load iris dataset from ScikitLearn using load_iris(). Assign the dataset to X and the target values to y.\n"
   ]
  },
  {
   "cell_type": "code",
   "execution_count": 1,
   "id": "32d9e830",
   "metadata": {},
   "outputs": [],
   "source": [
    "from sklearn.datasets import load_iris\n",
    "iris_dataset = load_iris()\n",
    "# ref: https://runebook.dev/en/docs/scikit_learn/modules/generated/sklearn.datasets.load_iris"
   ]
  },
  {
   "cell_type": "raw",
   "id": "621c5f26",
   "metadata": {},
   "source": [
    "# Step 2\n",
    "Print the dataset keys using iris_dataset.keys()\n",
    "​"
   ]
  },
  {
   "cell_type": "code",
   "execution_count": 2,
   "id": "4747e57b",
   "metadata": {},
   "outputs": [
    {
     "name": "stdout",
     "output_type": "stream",
     "text": [
      "dict_keys(['data', 'target', 'frame', 'target_names', 'DESCR', 'feature_names', 'filename'])\n"
     ]
    }
   ],
   "source": [
    "print(iris_dataset.keys())\n",
    "# the keys from the dictionary is shown.\n"
   ]
  },
  {
   "cell_type": "raw",
   "id": "b74b666b",
   "metadata": {},
   "source": [
    "Step 3\n",
    "Print the names of the categories in the target file\n",
    "\n",
    "​"
   ]
  },
  {
   "cell_type": "code",
   "execution_count": 3,
   "id": "4f0ebe8b",
   "metadata": {},
   "outputs": [
    {
     "name": "stdout",
     "output_type": "stream",
     "text": [
      "['setosa' 'versicolor' 'virginica']\n"
     ]
    }
   ],
   "source": [
    "print(iris_dataset.target_names)\n",
    "# ref: https://medium.com/analytics-vidhya/exploration-of-iris-dataset-using-scikit-learn-part-1-8ac5604937f8"
   ]
  },
  {
   "cell_type": "raw",
   "id": "100be9f2",
   "metadata": {},
   "source": [
    "Step 4\n",
    "Print the feature names in the Iris dataset\n",
    "\n",
    "​"
   ]
  },
  {
   "cell_type": "code",
   "execution_count": 4,
   "id": "dbf2e0eb",
   "metadata": {},
   "outputs": [
    {
     "name": "stdout",
     "output_type": "stream",
     "text": [
      "['sepal length (cm)', 'sepal width (cm)', 'petal length (cm)', 'petal width (cm)']\n"
     ]
    }
   ],
   "source": [
    "print(iris_dataset.feature_names)"
   ]
  },
  {
   "cell_type": "raw",
   "id": "71b242b6",
   "metadata": {},
   "source": [
    "Step 5\n",
    "Print the type of the Iris dataset.\n",
    "\n",
    "​\n"
   ]
  },
  {
   "cell_type": "code",
   "execution_count": 5,
   "id": "c82b7022",
   "metadata": {},
   "outputs": [
    {
     "name": "stdout",
     "output_type": "stream",
     "text": [
      "<class 'numpy.ndarray'>\n"
     ]
    }
   ],
   "source": [
    "# https://www.ritchieng.com/machine-learning-iris-dataset/\n",
    "print(type(iris_dataset.data))"
   ]
  },
  {
   "cell_type": "raw",
   "id": "d8ecb1d0",
   "metadata": {},
   "source": [
    "Step 6\n",
    "Print the shape of the Iris dataset.\n",
    "\n",
    "​\n"
   ]
  },
  {
   "cell_type": "code",
   "execution_count": 6,
   "id": "14e4297f",
   "metadata": {},
   "outputs": [
    {
     "name": "stdout",
     "output_type": "stream",
     "text": [
      "(150, 4)\n"
     ]
    }
   ],
   "source": [
    "print(iris_dataset.data.shape)"
   ]
  },
  {
   "cell_type": "raw",
   "id": "884a0fa3",
   "metadata": {},
   "source": [
    "Step 7\n",
    "Print the first five rows of the Iris dataset."
   ]
  },
  {
   "cell_type": "code",
   "execution_count": 7,
   "id": "cbe70660",
   "metadata": {},
   "outputs": [
    {
     "data": {
      "text/html": [
       "<div>\n",
       "<style scoped>\n",
       "    .dataframe tbody tr th:only-of-type {\n",
       "        vertical-align: middle;\n",
       "    }\n",
       "\n",
       "    .dataframe tbody tr th {\n",
       "        vertical-align: top;\n",
       "    }\n",
       "\n",
       "    .dataframe thead th {\n",
       "        text-align: right;\n",
       "    }\n",
       "</style>\n",
       "<table border=\"1\" class=\"dataframe\">\n",
       "  <thead>\n",
       "    <tr style=\"text-align: right;\">\n",
       "      <th></th>\n",
       "      <th>sepal length (cm)</th>\n",
       "      <th>sepal width (cm)</th>\n",
       "      <th>petal length (cm)</th>\n",
       "      <th>petal width (cm)</th>\n",
       "    </tr>\n",
       "  </thead>\n",
       "  <tbody>\n",
       "    <tr>\n",
       "      <th>0</th>\n",
       "      <td>5.1</td>\n",
       "      <td>3.5</td>\n",
       "      <td>1.4</td>\n",
       "      <td>0.2</td>\n",
       "    </tr>\n",
       "    <tr>\n",
       "      <th>1</th>\n",
       "      <td>4.9</td>\n",
       "      <td>3.0</td>\n",
       "      <td>1.4</td>\n",
       "      <td>0.2</td>\n",
       "    </tr>\n",
       "    <tr>\n",
       "      <th>2</th>\n",
       "      <td>4.7</td>\n",
       "      <td>3.2</td>\n",
       "      <td>1.3</td>\n",
       "      <td>0.2</td>\n",
       "    </tr>\n",
       "    <tr>\n",
       "      <th>3</th>\n",
       "      <td>4.6</td>\n",
       "      <td>3.1</td>\n",
       "      <td>1.5</td>\n",
       "      <td>0.2</td>\n",
       "    </tr>\n",
       "    <tr>\n",
       "      <th>4</th>\n",
       "      <td>5.0</td>\n",
       "      <td>3.6</td>\n",
       "      <td>1.4</td>\n",
       "      <td>0.2</td>\n",
       "    </tr>\n",
       "  </tbody>\n",
       "</table>\n",
       "</div>"
      ],
      "text/plain": [
       "   sepal length (cm)  sepal width (cm)  petal length (cm)  petal width (cm)\n",
       "0                5.1               3.5                1.4               0.2\n",
       "1                4.9               3.0                1.4               0.2\n",
       "2                4.7               3.2                1.3               0.2\n",
       "3                4.6               3.1                1.5               0.2\n",
       "4                5.0               3.6                1.4               0.2"
      ]
     },
     "execution_count": 7,
     "metadata": {},
     "output_type": "execute_result"
    }
   ],
   "source": [
    "# ref: https://stackoverflow.com/questions/38105539/how-to-convert-a-scikit-learn-dataset-to-a-pandas-dataset\n",
    "#ref: https://www.ritchieng.com/machine-learning-iris-dataset/\n",
    "#ref: https://datatofish.com/pandas-dataframe-to-dictionary/\n",
    "import pandas as pd\n",
    "df = pd.DataFrame(data=iris_dataset.data, columns=iris_dataset['feature_names'])\n",
    "df.head(5)"
   ]
  },
  {
   "cell_type": "raw",
   "id": "aa846093",
   "metadata": {},
   "source": [
    "Step 8\n",
    "Print the type of the target variable of Iris dataset.\n"
   ]
  },
  {
   "cell_type": "code",
   "execution_count": 8,
   "id": "f17e898c",
   "metadata": {},
   "outputs": [
    {
     "name": "stdout",
     "output_type": "stream",
     "text": [
      "<class 'numpy.ndarray'>\n"
     ]
    }
   ],
   "source": [
    "print(type(iris_dataset.target))"
   ]
  },
  {
   "cell_type": "raw",
   "id": "6d8a99c9",
   "metadata": {},
   "source": [
    "\n",
    "​\n",
    "Step 9\n",
    "Print the shape of the target variable of Iris dataset.\n",
    "\n",
    "​\n"
   ]
  },
  {
   "cell_type": "code",
   "execution_count": 9,
   "id": "961464dd",
   "metadata": {},
   "outputs": [
    {
     "name": "stdout",
     "output_type": "stream",
     "text": [
      "(150,)\n"
     ]
    }
   ],
   "source": [
    "print(iris_dataset['target'].shape)"
   ]
  },
  {
   "cell_type": "raw",
   "id": "cbb78441",
   "metadata": {},
   "source": [
    "Step 10\n",
    "Print the entire target variable values of the Iris dataset.\n",
    "\n",
    "​"
   ]
  },
  {
   "cell_type": "code",
   "execution_count": 10,
   "id": "2fdabd6f",
   "metadata": {},
   "outputs": [
    {
     "name": "stdout",
     "output_type": "stream",
     "text": [
      "[0 0 0 0 0 0 0 0 0 0 0 0 0 0 0 0 0 0 0 0 0 0 0 0 0 0 0 0 0 0 0 0 0 0 0 0 0\n",
      " 0 0 0 0 0 0 0 0 0 0 0 0 0 1 1 1 1 1 1 1 1 1 1 1 1 1 1 1 1 1 1 1 1 1 1 1 1\n",
      " 1 1 1 1 1 1 1 1 1 1 1 1 1 1 1 1 1 1 1 1 1 1 1 1 1 1 2 2 2 2 2 2 2 2 2 2 2\n",
      " 2 2 2 2 2 2 2 2 2 2 2 2 2 2 2 2 2 2 2 2 2 2 2 2 2 2 2 2 2 2 2 2 2 2 2 2 2\n",
      " 2 2]\n"
     ]
    }
   ],
   "source": [
    "print(iris_dataset.target)"
   ]
  },
  {
   "cell_type": "raw",
   "id": "e27d801e",
   "metadata": {},
   "source": [
    "Step 11\n",
    "Import NumPy with import numpy as np and use the numpy.unique() function to print the unique values of the target variable of Iris dataset\n",
    "\n",
    "​"
   ]
  },
  {
   "cell_type": "code",
   "execution_count": 11,
   "id": "eb7df945",
   "metadata": {},
   "outputs": [
    {
     "name": "stdout",
     "output_type": "stream",
     "text": [
      "[0 1 2]\n"
     ]
    }
   ],
   "source": [
    "import numpy as np\n",
    "print(np.unique(iris_dataset.target))"
   ]
  },
  {
   "cell_type": "raw",
   "id": "b2648875",
   "metadata": {},
   "source": [
    "Step 12\n",
    "Split dataset into train and test datasets using from sklearn.model_selection import train_test_split\n",
    "\n",
    "​"
   ]
  },
  {
   "cell_type": "code",
   "execution_count": 12,
   "id": "4819f144",
   "metadata": {},
   "outputs": [],
   "source": [
    "X= iris_dataset.data\n",
    "y= iris_dataset.target\n",
    "from sklearn.model_selection import train_test_split\n",
    "X_train, X_test, y_train, y_test = train_test_split(\n",
    "    X,y, random_state=0)\n",
    "\n",
    "# ref ::::: https://www.ritchieng.com/machine-learning-iris-dataset/"
   ]
  },
  {
   "cell_type": "raw",
   "id": "f4cb2396",
   "metadata": {},
   "source": [
    "Step 13\n",
    "Print the shape of train/test datasets and the train/test target variables.\n",
    "\n",
    "​"
   ]
  },
  {
   "cell_type": "code",
   "execution_count": 13,
   "id": "939a1100",
   "metadata": {},
   "outputs": [
    {
     "name": "stdout",
     "output_type": "stream",
     "text": [
      "X_train shape: (112, 4)\n",
      "y_train shape: (112,)\n",
      "X_test shape: (38, 4)\n",
      "y_test shape: (38,)\n"
     ]
    }
   ],
   "source": [
    "print(\"X_train shape:\", X_train.shape)\n",
    "print(\"y_train shape:\", y_train.shape)\n",
    "print(\"X_test shape:\", X_test.shape)\n",
    "print(\"y_test shape:\", y_test.shape)"
   ]
  },
  {
   "cell_type": "raw",
   "id": "4b409542",
   "metadata": {},
   "source": [
    "Step 14\n",
    "Build your K-neighbors classifier for nearest neighbor of 1 using from sklearn.neighbors import KNeighborsClassifier, fit the model to your train dataset and make a prediction for teh data point of [5, 1.9, 1, 0.2]. Print your prediction class value as an integer and also the corresponding string label.\n"
   ]
  },
  {
   "cell_type": "code",
   "execution_count": 14,
   "id": "24e1a8e7",
   "metadata": {},
   "outputs": [
    {
     "data": {
      "text/plain": [
       "KNeighborsClassifier(n_neighbors=1)"
      ]
     },
     "execution_count": 14,
     "metadata": {},
     "output_type": "execute_result"
    }
   ],
   "source": [
    "from sklearn.neighbors import KNeighborsClassifier\n",
    "knn = KNeighborsClassifier(n_neighbors=1)\n",
    "knn.fit(X_train, y_train)"
   ]
  },
  {
   "cell_type": "code",
   "execution_count": 15,
   "id": "dab5e428",
   "metadata": {},
   "outputs": [
    {
     "name": "stdout",
     "output_type": "stream",
     "text": [
      "X_new.shape: (1, 4)\n",
      "---------------------\n",
      "Prediction: [0]\n",
      "Predicted target name: ['setosa']\n"
     ]
    }
   ],
   "source": [
    "X_new = np.array([[5, 1.9, 1, 0.2]])\n",
    "print(\"X_new.shape:\", X_new.shape)\n",
    "print(\"---------------------\")\n",
    "prediction = knn.predict(X_new)\n",
    "print(\"Prediction:\", prediction)\n",
    "print(\"Predicted target name:\",\n",
    "       iris_dataset['target_names'][prediction])"
   ]
  },
  {
   "cell_type": "code",
   "execution_count": 16,
   "id": "9943cc1c",
   "metadata": {},
   "outputs": [
    {
     "name": "stdout",
     "output_type": "stream",
     "text": [
      "Test set predictions:\n",
      " [2 1 0 2 0 2 0 1 1 1 2 1 1 1 1 0 1 1 0 0 2 1 0 0 2 0 0 1 1 0 2 1 0 2 2 1 0\n",
      " 2]\n",
      "---------------------\n",
      "Test set score: 0.97\n",
      "---------------------\n",
      "Test set score: 0.97\n"
     ]
    }
   ],
   "source": [
    "# Evaluate your model on the test dataste, print the accuracy of the model\n",
    "y_pred = knn.predict(X_test)\n",
    "print(\"Test set predictions:\\n\", y_pred)\n",
    "print(\"---------------------\")\n",
    "print(\"Test set score: {:.2f}\".format(np.mean(y_pred == y_test)))\n",
    "print(\"---------------------\")\n",
    "print(\"Test set score: {:.2f}\".format(knn.score(X_test, y_test)))\n"
   ]
  },
  {
   "cell_type": "markdown",
   "id": "95b46f52",
   "metadata": {},
   "source": [
    "# B. Loading a Dataset and exploring it\n",
    "Step 1\n",
    "Import the modules needed to explore the data\n",
    "\n",
    "​"
   ]
  },
  {
   "cell_type": "code",
   "execution_count": 17,
   "id": "77b946b1",
   "metadata": {},
   "outputs": [],
   "source": [
    "import pandas as pd\n",
    "import numpy as np\n",
    "import seaborn as sns\n",
    "import matplotlib.pyplot as plt"
   ]
  },
  {
   "cell_type": "raw",
   "id": "fa6c98ce",
   "metadata": {},
   "source": [
    "Step 2\n",
    "Import auto_mpg.csv dataset using pandas'read_csv function. Print the first three samples from your dataset, print the index range of the observations, and print the column names of your dataset\n"
   ]
  },
  {
   "cell_type": "code",
   "execution_count": 18,
   "id": "f17b0718",
   "metadata": {},
   "outputs": [
    {
     "name": "stdout",
     "output_type": "stream",
     "text": [
      "------------\n",
      "------------\n",
      "RangeIndex(start=0, stop=398, step=1)\n",
      "------------\n",
      "------------\n",
      "mpg\n",
      "cylinders\n",
      "displacement\n",
      "horsepower\n",
      "weight\n",
      "acceleration\n",
      "model year\n",
      "origin\n",
      "car name\n"
     ]
    }
   ],
   "source": [
    "autompg_dataframe = pd.read_csv('auto_mpg.csv')\n",
    "\n",
    "print(\"------------\")\n",
    "print(\"------------\")\n",
    "print(autompg_dataframe.index)\n",
    "print(\"------------\")\n",
    "print(\"------------\")\n",
    "for col in autompg_dataframe.columns:\n",
    "    print(col)\n",
    "\n",
    "# ref: https://www.geeksforgeeks.org/how-to-get-column-names-in-pandas-dataframe/\n",
    "# ref: https://stackoverflow.com/questions/44452751/pandas-dataframe-rangeindex"
   ]
  },
  {
   "cell_type": "code",
   "execution_count": 19,
   "id": "1408b108",
   "metadata": {},
   "outputs": [
    {
     "data": {
      "text/html": [
       "<div>\n",
       "<style scoped>\n",
       "    .dataframe tbody tr th:only-of-type {\n",
       "        vertical-align: middle;\n",
       "    }\n",
       "\n",
       "    .dataframe tbody tr th {\n",
       "        vertical-align: top;\n",
       "    }\n",
       "\n",
       "    .dataframe thead th {\n",
       "        text-align: right;\n",
       "    }\n",
       "</style>\n",
       "<table border=\"1\" class=\"dataframe\">\n",
       "  <thead>\n",
       "    <tr style=\"text-align: right;\">\n",
       "      <th></th>\n",
       "      <th>mpg</th>\n",
       "      <th>cylinders</th>\n",
       "      <th>displacement</th>\n",
       "      <th>horsepower</th>\n",
       "      <th>weight</th>\n",
       "      <th>acceleration</th>\n",
       "      <th>model year</th>\n",
       "      <th>origin</th>\n",
       "      <th>car name</th>\n",
       "    </tr>\n",
       "  </thead>\n",
       "  <tbody>\n",
       "    <tr>\n",
       "      <th>0</th>\n",
       "      <td>18.0</td>\n",
       "      <td>8</td>\n",
       "      <td>307.0</td>\n",
       "      <td>130.0</td>\n",
       "      <td>3504</td>\n",
       "      <td>12.0</td>\n",
       "      <td>70</td>\n",
       "      <td>1</td>\n",
       "      <td>chevrolet chevelle malibu</td>\n",
       "    </tr>\n",
       "    <tr>\n",
       "      <th>1</th>\n",
       "      <td>15.0</td>\n",
       "      <td>8</td>\n",
       "      <td>350.0</td>\n",
       "      <td>165.0</td>\n",
       "      <td>3693</td>\n",
       "      <td>11.5</td>\n",
       "      <td>70</td>\n",
       "      <td>1</td>\n",
       "      <td>buick skylark 320</td>\n",
       "    </tr>\n",
       "    <tr>\n",
       "      <th>2</th>\n",
       "      <td>18.0</td>\n",
       "      <td>8</td>\n",
       "      <td>318.0</td>\n",
       "      <td>150.0</td>\n",
       "      <td>3436</td>\n",
       "      <td>11.0</td>\n",
       "      <td>70</td>\n",
       "      <td>1</td>\n",
       "      <td>plymouth satellite</td>\n",
       "    </tr>\n",
       "  </tbody>\n",
       "</table>\n",
       "</div>"
      ],
      "text/plain": [
       "    mpg  cylinders  displacement  horsepower  weight  acceleration  \\\n",
       "0  18.0          8         307.0       130.0    3504          12.0   \n",
       "1  15.0          8         350.0       165.0    3693          11.5   \n",
       "2  18.0          8         318.0       150.0    3436          11.0   \n",
       "\n",
       "   model year  origin                   car name  \n",
       "0          70       1  chevrolet chevelle malibu  \n",
       "1          70       1          buick skylark 320  \n",
       "2          70       1         plymouth satellite  "
      ]
     },
     "execution_count": 19,
     "metadata": {},
     "output_type": "execute_result"
    }
   ],
   "source": [
    "autompg_dataframe.head(3)"
   ]
  },
  {
   "cell_type": "raw",
   "id": "8898d5f5",
   "metadata": {},
   "source": [
    "\n",
    "Step 3\n",
    "Assign mpg column as output and name it as y and the rest of the data as the features and assign it to X. Print the shape of X.\n"
   ]
  },
  {
   "cell_type": "code",
   "execution_count": 20,
   "id": "e72e837c",
   "metadata": {},
   "outputs": [
    {
     "data": {
      "text/plain": [
       "(398, 9)"
      ]
     },
     "execution_count": 20,
     "metadata": {},
     "output_type": "execute_result"
    }
   ],
   "source": [
    "y=autompg_dataframe['mpg']\n",
    "X = autompg_dataframe.drop('mpg',axis=1)\n",
    "# ref: https://www.geeksforgeeks.org/how-to-split-the-dataset-with-scikit-learns-train_test_split-function/\n",
    "autompg_dataframe.shape"
   ]
  },
  {
   "cell_type": "raw",
   "id": "e9745a9e",
   "metadata": {},
   "source": [
    "Step 4\n",
    "Bonus: Check the dataset if there are any missing values in any of the columns using isnull().any() functions.\n",
    "​"
   ]
  },
  {
   "cell_type": "code",
   "execution_count": 21,
   "id": "9ed198f5",
   "metadata": {},
   "outputs": [
    {
     "data": {
      "text/plain": [
       "mpg             False\n",
       "cylinders       False\n",
       "displacement    False\n",
       "horsepower      False\n",
       "weight          False\n",
       "acceleration    False\n",
       "model year      False\n",
       "origin          False\n",
       "car name        False\n",
       "dtype: bool"
      ]
     },
     "execution_count": 21,
     "metadata": {},
     "output_type": "execute_result"
    }
   ],
   "source": [
    "autompg_dataframe.isnull().any()\n",
    "# ref: https://chartio.com/resources/tutorials/how-to-check-if-any-value-is-nan-in-a-pandas-dataframe/"
   ]
  },
  {
   "cell_type": "raw",
   "id": "945442ad",
   "metadata": {},
   "source": [
    "Step 5\n",
    "Check the data types of each feature. Which columns are continuous and which are categorical?\n",
    "​"
   ]
  },
  {
   "cell_type": "code",
   "execution_count": 22,
   "id": "ca0221b6",
   "metadata": {},
   "outputs": [
    {
     "data": {
      "text/plain": [
       "mpg             float64\n",
       "cylinders         int64\n",
       "displacement    float64\n",
       "horsepower      float64\n",
       "weight            int64\n",
       "acceleration    float64\n",
       "model year        int64\n",
       "origin            int64\n",
       "car name         object\n",
       "dtype: object"
      ]
     },
     "execution_count": 22,
     "metadata": {},
     "output_type": "execute_result"
    }
   ],
   "source": [
    "autompg_dataframe.dtypes"
   ]
  },
  {
   "cell_type": "raw",
   "id": "08838487",
   "metadata": {},
   "source": [
    "Step 6\n",
    "Look at the unique elements of horsepower\n",
    "​"
   ]
  },
  {
   "cell_type": "code",
   "execution_count": 23,
   "id": "2bbe9a25",
   "metadata": {},
   "outputs": [
    {
     "data": {
      "text/plain": [
       "array([130., 165., 150., 140., 198., 220., 215., 225., 190., 170., 160.,\n",
       "        95.,  97.,  85.,  88.,  46.,  87.,  90., 113., 200., 210., 193.,\n",
       "       104., 100., 105., 175., 153., 180., 110.,  72.,  86.,  70.,  76.,\n",
       "        65.,  69.,  60.,  80.,  54., 208., 155., 112.,  92., 145., 137.,\n",
       "       158., 167.,  94., 107., 230.,  49.,  75.,  91., 122.,  67.,  83.,\n",
       "        78.,  52.,  61.,  93., 148., 129.,  96.,  71.,  98., 115.,  53.,\n",
       "        81.,  79., 120., 152., 102., 108.,  68.,  58., 149.,  89.,  63.,\n",
       "        48.,  66., 139., 103., 125., 133., 138., 135., 142.,  77.,  62.,\n",
       "       132.,  84.,  64.,  74., 116.,  82.])"
      ]
     },
     "execution_count": 23,
     "metadata": {},
     "output_type": "execute_result"
    }
   ],
   "source": [
    "autompg_dataframe.horsepower.unique()\n",
    "# ref: https://www.geeksforgeeks.org/get-unique-values-from-a-column-in-pandas-dataframe/"
   ]
  },
  {
   "cell_type": "raw",
   "id": "d2ea2b47",
   "metadata": {},
   "source": [
    "Step 7\n",
    "Let's describe data since everything looks in order.\n",
    "\n",
    "See the statistical details of the dataset using describe and info methods.\n",
    "​"
   ]
  },
  {
   "cell_type": "code",
   "execution_count": 24,
   "id": "f684dd8f",
   "metadata": {
    "scrolled": true
   },
   "outputs": [
    {
     "data": {
      "text/html": [
       "<div>\n",
       "<style scoped>\n",
       "    .dataframe tbody tr th:only-of-type {\n",
       "        vertical-align: middle;\n",
       "    }\n",
       "\n",
       "    .dataframe tbody tr th {\n",
       "        vertical-align: top;\n",
       "    }\n",
       "\n",
       "    .dataframe thead th {\n",
       "        text-align: right;\n",
       "    }\n",
       "</style>\n",
       "<table border=\"1\" class=\"dataframe\">\n",
       "  <thead>\n",
       "    <tr style=\"text-align: right;\">\n",
       "      <th></th>\n",
       "      <th>mpg</th>\n",
       "      <th>cylinders</th>\n",
       "      <th>displacement</th>\n",
       "      <th>horsepower</th>\n",
       "      <th>weight</th>\n",
       "      <th>acceleration</th>\n",
       "      <th>model year</th>\n",
       "      <th>origin</th>\n",
       "      <th>car name</th>\n",
       "    </tr>\n",
       "  </thead>\n",
       "  <tbody>\n",
       "    <tr>\n",
       "      <th>count</th>\n",
       "      <td>398.000000</td>\n",
       "      <td>398.000000</td>\n",
       "      <td>398.000000</td>\n",
       "      <td>398.000000</td>\n",
       "      <td>398.000000</td>\n",
       "      <td>398.000000</td>\n",
       "      <td>398.000000</td>\n",
       "      <td>398.000000</td>\n",
       "      <td>398</td>\n",
       "    </tr>\n",
       "    <tr>\n",
       "      <th>unique</th>\n",
       "      <td>NaN</td>\n",
       "      <td>NaN</td>\n",
       "      <td>NaN</td>\n",
       "      <td>NaN</td>\n",
       "      <td>NaN</td>\n",
       "      <td>NaN</td>\n",
       "      <td>NaN</td>\n",
       "      <td>NaN</td>\n",
       "      <td>305</td>\n",
       "    </tr>\n",
       "    <tr>\n",
       "      <th>top</th>\n",
       "      <td>NaN</td>\n",
       "      <td>NaN</td>\n",
       "      <td>NaN</td>\n",
       "      <td>NaN</td>\n",
       "      <td>NaN</td>\n",
       "      <td>NaN</td>\n",
       "      <td>NaN</td>\n",
       "      <td>NaN</td>\n",
       "      <td>ford pinto</td>\n",
       "    </tr>\n",
       "    <tr>\n",
       "      <th>freq</th>\n",
       "      <td>NaN</td>\n",
       "      <td>NaN</td>\n",
       "      <td>NaN</td>\n",
       "      <td>NaN</td>\n",
       "      <td>NaN</td>\n",
       "      <td>NaN</td>\n",
       "      <td>NaN</td>\n",
       "      <td>NaN</td>\n",
       "      <td>6</td>\n",
       "    </tr>\n",
       "    <tr>\n",
       "      <th>mean</th>\n",
       "      <td>23.514573</td>\n",
       "      <td>5.454774</td>\n",
       "      <td>193.425879</td>\n",
       "      <td>104.462312</td>\n",
       "      <td>2970.424623</td>\n",
       "      <td>15.568090</td>\n",
       "      <td>76.010050</td>\n",
       "      <td>1.572864</td>\n",
       "      <td>NaN</td>\n",
       "    </tr>\n",
       "    <tr>\n",
       "      <th>std</th>\n",
       "      <td>7.815984</td>\n",
       "      <td>1.701004</td>\n",
       "      <td>104.269838</td>\n",
       "      <td>38.199230</td>\n",
       "      <td>846.841774</td>\n",
       "      <td>2.757689</td>\n",
       "      <td>3.697627</td>\n",
       "      <td>0.802055</td>\n",
       "      <td>NaN</td>\n",
       "    </tr>\n",
       "    <tr>\n",
       "      <th>min</th>\n",
       "      <td>9.000000</td>\n",
       "      <td>3.000000</td>\n",
       "      <td>68.000000</td>\n",
       "      <td>46.000000</td>\n",
       "      <td>1613.000000</td>\n",
       "      <td>8.000000</td>\n",
       "      <td>70.000000</td>\n",
       "      <td>1.000000</td>\n",
       "      <td>NaN</td>\n",
       "    </tr>\n",
       "    <tr>\n",
       "      <th>25%</th>\n",
       "      <td>17.500000</td>\n",
       "      <td>4.000000</td>\n",
       "      <td>104.250000</td>\n",
       "      <td>76.000000</td>\n",
       "      <td>2223.750000</td>\n",
       "      <td>13.825000</td>\n",
       "      <td>73.000000</td>\n",
       "      <td>1.000000</td>\n",
       "      <td>NaN</td>\n",
       "    </tr>\n",
       "    <tr>\n",
       "      <th>50%</th>\n",
       "      <td>23.000000</td>\n",
       "      <td>4.000000</td>\n",
       "      <td>148.500000</td>\n",
       "      <td>95.000000</td>\n",
       "      <td>2803.500000</td>\n",
       "      <td>15.500000</td>\n",
       "      <td>76.000000</td>\n",
       "      <td>1.000000</td>\n",
       "      <td>NaN</td>\n",
       "    </tr>\n",
       "    <tr>\n",
       "      <th>75%</th>\n",
       "      <td>29.000000</td>\n",
       "      <td>8.000000</td>\n",
       "      <td>262.000000</td>\n",
       "      <td>125.000000</td>\n",
       "      <td>3608.000000</td>\n",
       "      <td>17.175000</td>\n",
       "      <td>79.000000</td>\n",
       "      <td>2.000000</td>\n",
       "      <td>NaN</td>\n",
       "    </tr>\n",
       "    <tr>\n",
       "      <th>max</th>\n",
       "      <td>46.600000</td>\n",
       "      <td>8.000000</td>\n",
       "      <td>455.000000</td>\n",
       "      <td>230.000000</td>\n",
       "      <td>5140.000000</td>\n",
       "      <td>24.800000</td>\n",
       "      <td>82.000000</td>\n",
       "      <td>3.000000</td>\n",
       "      <td>NaN</td>\n",
       "    </tr>\n",
       "  </tbody>\n",
       "</table>\n",
       "</div>"
      ],
      "text/plain": [
       "               mpg   cylinders  displacement  horsepower       weight  \\\n",
       "count   398.000000  398.000000    398.000000  398.000000   398.000000   \n",
       "unique         NaN         NaN           NaN         NaN          NaN   \n",
       "top            NaN         NaN           NaN         NaN          NaN   \n",
       "freq           NaN         NaN           NaN         NaN          NaN   \n",
       "mean     23.514573    5.454774    193.425879  104.462312  2970.424623   \n",
       "std       7.815984    1.701004    104.269838   38.199230   846.841774   \n",
       "min       9.000000    3.000000     68.000000   46.000000  1613.000000   \n",
       "25%      17.500000    4.000000    104.250000   76.000000  2223.750000   \n",
       "50%      23.000000    4.000000    148.500000   95.000000  2803.500000   \n",
       "75%      29.000000    8.000000    262.000000  125.000000  3608.000000   \n",
       "max      46.600000    8.000000    455.000000  230.000000  5140.000000   \n",
       "\n",
       "        acceleration  model year      origin    car name  \n",
       "count     398.000000  398.000000  398.000000         398  \n",
       "unique           NaN         NaN         NaN         305  \n",
       "top              NaN         NaN         NaN  ford pinto  \n",
       "freq             NaN         NaN         NaN           6  \n",
       "mean       15.568090   76.010050    1.572864         NaN  \n",
       "std         2.757689    3.697627    0.802055         NaN  \n",
       "min         8.000000   70.000000    1.000000         NaN  \n",
       "25%        13.825000   73.000000    1.000000         NaN  \n",
       "50%        15.500000   76.000000    1.000000         NaN  \n",
       "75%        17.175000   79.000000    2.000000         NaN  \n",
       "max        24.800000   82.000000    3.000000         NaN  "
      ]
     },
     "execution_count": 24,
     "metadata": {},
     "output_type": "execute_result"
    }
   ],
   "source": [
    "autompg_dataframe.describe(include='all')\n",
    "# ref: https://datatofish.com/descriptive-statistics-pandas/#:~:text=To%20get%20the%20descriptive%20statistics%20for%20a%20specific,descriptive%20statistics%20for%20an%20entire%20DataFrame%3A%20df.describe%20%28include%3D%27all%27%29"
   ]
  },
  {
   "cell_type": "code",
   "execution_count": 25,
   "id": "5fdd648e",
   "metadata": {},
   "outputs": [
    {
     "name": "stdout",
     "output_type": "stream",
     "text": [
      "<class 'pandas.core.frame.DataFrame'>\n",
      "RangeIndex: 398 entries, 0 to 397\n",
      "Data columns (total 9 columns):\n",
      " #   Column        Non-Null Count  Dtype  \n",
      "---  ------        --------------  -----  \n",
      " 0   mpg           398 non-null    float64\n",
      " 1   cylinders     398 non-null    int64  \n",
      " 2   displacement  398 non-null    float64\n",
      " 3   horsepower    398 non-null    float64\n",
      " 4   weight        398 non-null    int64  \n",
      " 5   acceleration  398 non-null    float64\n",
      " 6   model year    398 non-null    int64  \n",
      " 7   origin        398 non-null    int64  \n",
      " 8   car name      398 non-null    object \n",
      "dtypes: float64(4), int64(4), object(1)\n",
      "memory usage: 28.1+ KB\n"
     ]
    }
   ],
   "source": [
    "autompg_dataframe.info()"
   ]
  },
  {
   "cell_type": "raw",
   "id": "79b37801",
   "metadata": {},
   "source": [
    "Step 8\n",
    "Let's specifically look at the description of the mpg feature\n",
    "​"
   ]
  },
  {
   "cell_type": "code",
   "execution_count": 26,
   "id": "4e1fa7fc",
   "metadata": {},
   "outputs": [
    {
     "data": {
      "text/plain": [
       "count    398.000000\n",
       "mean      23.514573\n",
       "std        7.815984\n",
       "min        9.000000\n",
       "25%       17.500000\n",
       "50%       23.000000\n",
       "75%       29.000000\n",
       "max       46.600000\n",
       "Name: mpg, dtype: float64"
      ]
     },
     "execution_count": 26,
     "metadata": {},
     "output_type": "execute_result"
    }
   ],
   "source": [
    "autompg_dataframe['mpg'].describe()"
   ]
  },
  {
   "cell_type": "raw",
   "id": "de8f9fe0",
   "metadata": {},
   "source": [
    "Step 9\n",
    "Visualize the distribution of the features of the data using hist method, use bins=20.\n"
   ]
  },
  {
   "cell_type": "code",
   "execution_count": 27,
   "id": "c4380070",
   "metadata": {},
   "outputs": [
    {
     "data": {
      "image/png": "[encoded data removed]",
      "text/plain": [
       "<Figure size 1080x1080 with 9 Axes>"
      ]
     },
     "metadata": {
      "needs_background": "light"
     },
     "output_type": "display_data"
    }
   ],
   "source": [
    "autompg_dataframe.hist(figsize=(15,15),bins=20)\n",
    "plt.show()"
   ]
  },
  {
   "cell_type": "raw",
   "id": "3ab5ab0b",
   "metadata": {},
   "source": [
    "\n",
    "Step 10\n",
    "BONUS: Visualize the relationships between these data points.\n",
    "\n",
    "Create a function to scale your dataset by using the formula 𝑏=𝑥−𝑚𝑖𝑛𝑚𝑎𝑥−𝑚𝑖𝑛\n",
    "Create a function to scale your dataset by using the formula  𝑏=𝑥−𝑚𝑖𝑛𝑚𝑎𝑥−𝑚𝑖𝑛\n",
    " .\n",
    "Using this function, scale displacement, horsepower, acceleration, weight, andmpg`.\n",
    "..\n",
    "Create a boxplot of mpg for different origin values before and after scaling."
   ]
  },
  {
   "cell_type": "code",
   "execution_count": 28,
   "id": "e31b5255",
   "metadata": {},
   "outputs": [
    {
     "data": {
      "text/html": [
       "<div>\n",
       "<style scoped>\n",
       "    .dataframe tbody tr th:only-of-type {\n",
       "        vertical-align: middle;\n",
       "    }\n",
       "\n",
       "    .dataframe tbody tr th {\n",
       "        vertical-align: top;\n",
       "    }\n",
       "\n",
       "    .dataframe thead th {\n",
       "        text-align: right;\n",
       "    }\n",
       "</style>\n",
       "<table border=\"1\" class=\"dataframe\">\n",
       "  <thead>\n",
       "    <tr style=\"text-align: right;\">\n",
       "      <th></th>\n",
       "      <th>mpg</th>\n",
       "      <th>cylinders</th>\n",
       "      <th>displacement</th>\n",
       "      <th>horsepower</th>\n",
       "      <th>weight</th>\n",
       "      <th>acceleration</th>\n",
       "      <th>model year</th>\n",
       "      <th>origin</th>\n",
       "      <th>car name</th>\n",
       "    </tr>\n",
       "  </thead>\n",
       "  <tbody>\n",
       "    <tr>\n",
       "      <th>0</th>\n",
       "      <td>0.24</td>\n",
       "      <td>8</td>\n",
       "      <td>0.62</td>\n",
       "      <td>0.46</td>\n",
       "      <td>0.54</td>\n",
       "      <td>0.24</td>\n",
       "      <td>70</td>\n",
       "      <td>1</td>\n",
       "      <td>chevrolet chevelle malibu</td>\n",
       "    </tr>\n",
       "    <tr>\n",
       "      <th>1</th>\n",
       "      <td>0.16</td>\n",
       "      <td>8</td>\n",
       "      <td>0.73</td>\n",
       "      <td>0.65</td>\n",
       "      <td>0.59</td>\n",
       "      <td>0.21</td>\n",
       "      <td>70</td>\n",
       "      <td>1</td>\n",
       "      <td>buick skylark 320</td>\n",
       "    </tr>\n",
       "    <tr>\n",
       "      <th>2</th>\n",
       "      <td>0.24</td>\n",
       "      <td>8</td>\n",
       "      <td>0.65</td>\n",
       "      <td>0.57</td>\n",
       "      <td>0.52</td>\n",
       "      <td>0.18</td>\n",
       "      <td>70</td>\n",
       "      <td>1</td>\n",
       "      <td>plymouth satellite</td>\n",
       "    </tr>\n",
       "    <tr>\n",
       "      <th>3</th>\n",
       "      <td>0.19</td>\n",
       "      <td>8</td>\n",
       "      <td>0.61</td>\n",
       "      <td>0.57</td>\n",
       "      <td>0.52</td>\n",
       "      <td>0.24</td>\n",
       "      <td>70</td>\n",
       "      <td>1</td>\n",
       "      <td>amc rebel sst</td>\n",
       "    </tr>\n",
       "    <tr>\n",
       "      <th>4</th>\n",
       "      <td>0.21</td>\n",
       "      <td>8</td>\n",
       "      <td>0.60</td>\n",
       "      <td>0.51</td>\n",
       "      <td>0.52</td>\n",
       "      <td>0.15</td>\n",
       "      <td>70</td>\n",
       "      <td>1</td>\n",
       "      <td>ford torino</td>\n",
       "    </tr>\n",
       "    <tr>\n",
       "      <th>...</th>\n",
       "      <td>...</td>\n",
       "      <td>...</td>\n",
       "      <td>...</td>\n",
       "      <td>...</td>\n",
       "      <td>...</td>\n",
       "      <td>...</td>\n",
       "      <td>...</td>\n",
       "      <td>...</td>\n",
       "      <td>...</td>\n",
       "    </tr>\n",
       "    <tr>\n",
       "      <th>393</th>\n",
       "      <td>0.48</td>\n",
       "      <td>4</td>\n",
       "      <td>0.19</td>\n",
       "      <td>0.22</td>\n",
       "      <td>0.33</td>\n",
       "      <td>0.45</td>\n",
       "      <td>82</td>\n",
       "      <td>1</td>\n",
       "      <td>ford mustang gl</td>\n",
       "    </tr>\n",
       "    <tr>\n",
       "      <th>394</th>\n",
       "      <td>0.93</td>\n",
       "      <td>4</td>\n",
       "      <td>0.07</td>\n",
       "      <td>0.03</td>\n",
       "      <td>0.15</td>\n",
       "      <td>0.99</td>\n",
       "      <td>82</td>\n",
       "      <td>2</td>\n",
       "      <td>vw pickup</td>\n",
       "    </tr>\n",
       "    <tr>\n",
       "      <th>395</th>\n",
       "      <td>0.61</td>\n",
       "      <td>4</td>\n",
       "      <td>0.17</td>\n",
       "      <td>0.21</td>\n",
       "      <td>0.19</td>\n",
       "      <td>0.21</td>\n",
       "      <td>82</td>\n",
       "      <td>1</td>\n",
       "      <td>dodge rampage</td>\n",
       "    </tr>\n",
       "    <tr>\n",
       "      <th>396</th>\n",
       "      <td>0.51</td>\n",
       "      <td>4</td>\n",
       "      <td>0.13</td>\n",
       "      <td>0.18</td>\n",
       "      <td>0.29</td>\n",
       "      <td>0.63</td>\n",
       "      <td>82</td>\n",
       "      <td>1</td>\n",
       "      <td>ford ranger</td>\n",
       "    </tr>\n",
       "    <tr>\n",
       "      <th>397</th>\n",
       "      <td>0.59</td>\n",
       "      <td>4</td>\n",
       "      <td>0.13</td>\n",
       "      <td>0.20</td>\n",
       "      <td>0.31</td>\n",
       "      <td>0.68</td>\n",
       "      <td>82</td>\n",
       "      <td>1</td>\n",
       "      <td>chevy s-10</td>\n",
       "    </tr>\n",
       "  </tbody>\n",
       "</table>\n",
       "<p>398 rows × 9 columns</p>\n",
       "</div>"
      ],
      "text/plain": [
       "      mpg  cylinders  displacement  horsepower  weight  acceleration  \\\n",
       "0    0.24          8          0.62        0.46    0.54          0.24   \n",
       "1    0.16          8          0.73        0.65    0.59          0.21   \n",
       "2    0.24          8          0.65        0.57    0.52          0.18   \n",
       "3    0.19          8          0.61        0.57    0.52          0.24   \n",
       "4    0.21          8          0.60        0.51    0.52          0.15   \n",
       "..    ...        ...           ...         ...     ...           ...   \n",
       "393  0.48          4          0.19        0.22    0.33          0.45   \n",
       "394  0.93          4          0.07        0.03    0.15          0.99   \n",
       "395  0.61          4          0.17        0.21    0.19          0.21   \n",
       "396  0.51          4          0.13        0.18    0.29          0.63   \n",
       "397  0.59          4          0.13        0.20    0.31          0.68   \n",
       "\n",
       "     model year  origin                   car name  \n",
       "0            70       1  chevrolet chevelle malibu  \n",
       "1            70       1          buick skylark 320  \n",
       "2            70       1         plymouth satellite  \n",
       "3            70       1              amc rebel sst  \n",
       "4            70       1                ford torino  \n",
       "..          ...     ...                        ...  \n",
       "393          82       1            ford mustang gl  \n",
       "394          82       2                  vw pickup  \n",
       "395          82       1              dodge rampage  \n",
       "396          82       1                ford ranger  \n",
       "397          82       1                 chevy s-10  \n",
       "\n",
       "[398 rows x 9 columns]"
      ]
     },
     "execution_count": 28,
     "metadata": {},
     "output_type": "execute_result"
    }
   ],
   "source": [
    "\n",
    "# function to returns scaledata function\n",
    "def scale(a):\n",
    "    b = (a-a.min())/(a.max()-a.min())\n",
    "    return b\n",
    "\n",
    " \n",
    "# Applying a user defined function to each\n",
    "# column which will add value in each\n",
    "# column by given number\n",
    "new_autompg_dataframe = autompg_dataframe.copy()\n",
    "\n",
    "# apply the function to the salary column using apply()\n",
    "new_autompg_dataframe['displacement'] = scale(new_autompg_dataframe['displacement'])\n",
    "new_autompg_dataframe['horsepower'] = scale(new_autompg_dataframe['horsepower'])\n",
    "new_autompg_dataframe['acceleration'] = scale(new_autompg_dataframe['acceleration'])\n",
    "new_autompg_dataframe['weight'] = scale(new_autompg_dataframe['weight'])\n",
    "new_autompg_dataframe['mpg'] = scale(new_autompg_dataframe['mpg'])\n",
    " \n",
    "# Output\n",
    "new_autompg_dataframe.round(2)\n",
    "# ref: https://www.geeksforgeeks.org/apply-a-function-to-each-row-or-column-in-dataframe-using-pandas-apply/\n",
    "# ref: https://saturncloud.io/blog/how-to-apply-a-function-to-a-specific-column-of-a-pandas-dataframe/\n"
   ]
  },
  {
   "cell_type": "code",
   "execution_count": 44,
   "id": "a91e69a7",
   "metadata": {},
   "outputs": [
    {
     "data": {
      "text/plain": [
       "<matplotlib.lines.Line2D at 0x1708d799748>"
      ]
     },
     "execution_count": 44,
     "metadata": {},
     "output_type": "execute_result"
    },
    {
     "data": {
      "image/png": "[encoded data removed]",
      "text/plain": [
       "<Figure size 936x936 with 1 Axes>"
      ]
     },
     "metadata": {
      "needs_background": "light"
     },
     "output_type": "display_data"
    }
   ],
   "source": [
    "fig1 = autompg_dataframe.boxplot(column = 'mpg', by='origin', figsize=(13,13))\n",
    "plt.axhline(autompg_dataframe.mpg.mean(), color='r', linestyle='dashed', linewidth = 1.5)"
   ]
  },
  {
   "cell_type": "code",
   "execution_count": 45,
   "id": "c2d62cc6",
   "metadata": {},
   "outputs": [
    {
     "data": {
      "text/plain": [
       "<matplotlib.lines.Line2D at 0x1708d77f708>"
      ]
     },
     "execution_count": 45,
     "metadata": {},
     "output_type": "execute_result"
    },
    {
     "data": {
      "image/png": "[encoded data removed]",
      "text/plain": [
       "<Figure size 936x936 with 1 Axes>"
      ]
     },
     "metadata": {
      "needs_background": "light"
     },
     "output_type": "display_data"
    }
   ],
   "source": [
    "fig1 = new_autompg_dataframe.boxplot(column = 'mpg', by='origin', figsize=(13,13))\n",
    "plt.axhline(new_autompg_dataframe.mpg.mean(), color='r', linestyle='dashed', linewidth = 1.5)"
   ]
  },
  {
   "cell_type": "code",
   "execution_count": null,
   "id": "7a7ec4f8",
   "metadata": {},
   "outputs": [],
   "source": []
  },
  {
   "cell_type": "code",
   "execution_count": null,
   "id": "ed37c32a",
   "metadata": {},
   "outputs": [],
   "source": []
  },
  {
   "cell_type": "code",
   "execution_count": null,
   "id": "e2404169",
   "metadata": {},
   "outputs": [],
   "source": []
  },
  {
   "cell_type": "code",
   "execution_count": null,
   "id": "66303a37",
   "metadata": {},
   "outputs": [],
   "source": []
  },
  {
   "cell_type": "code",
   "execution_count": null,
   "id": "e27f07e9",
   "metadata": {},
   "outputs": [],
   "source": []
  },
  {
   "cell_type": "code",
   "execution_count": null,
   "id": "f4ce5081",
   "metadata": {},
   "outputs": [],
   "source": []
  },
  {
   "cell_type": "code",
   "execution_count": null,
   "id": "a2235f4b",
   "metadata": {},
   "outputs": [],
   "source": []
  }
 ],
 "metadata": {
  "kernelspec": {
   "display_name": "PythonData",
   "language": "python",
   "name": "pythondata"
  },
  "language_info": {
   "codemirror_mode": {
    "name": "ipython",
    "version": 3
   },
   "file_extension": ".py",
   "mimetype": "text/x-python",
   "name": "python",
   "nbconvert_exporter": "python",
   "pygments_lexer": "ipython3",
   "version": "3.7.10"
  }
 },
 "nbformat": 4,
 "nbformat_minor": 5
}

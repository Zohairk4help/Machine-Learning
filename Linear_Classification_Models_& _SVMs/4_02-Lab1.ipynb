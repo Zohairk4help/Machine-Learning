{
 "cells": [
  {
   "cell_type": "code",
   "execution_count": 1,
   "metadata": {},
   "outputs": [],
   "source": [
    "from sklearn.linear_model import LogisticRegression\n",
    "from sklearn.model_selection import train_test_split\n",
    "from sklearn.preprocessing import StandardScaler\n",
    "from sklearn.datasets import load_digits\n",
    "from sklearn.neighbors import KNeighborsClassifier\n",
    "import numpy as np\n"
   ]
  },
  {
   "cell_type": "markdown",
   "metadata": {},
   "source": [
    "### Steps:\n",
    "- Imported digits data set from Scikitlearn datasets library. Used `load_digits()`. When loaded, the dataset comes with `data` and `target` values.\n",
    "- Assigned `data` to X and `target` to y\n",
    "- Checked the shape of the data\n",
    "- Used `np.bincount` to print the number of uniqe elements of the target vriable `y`\n",
    "- Splitted data into train and test datasets. Used stratification when splitting. set the `random_state` to `42`\n",
    "- Normalized the dataset. When normalizing, simply divided the dataset by the maximum of the train dataset. To find the maximum, use `max("
   ]
  },
  {
   "cell_type": "code",
   "execution_count": 2,
   "metadata": {},
   "outputs": [
    {
     "name": "stdout",
     "output_type": "stream",
     "text": [
      "(1797, 64) X's shape\n",
      "(1797,) y's shape\n"
     ]
    }
   ],
   "source": [
    "digits = load_digits()\n",
    "X=digits.data\n",
    "y=digits.target\n",
    "print(X.shape, \"X's shape\")\n",
    "print(y.shape, \"y's shape\")"
   ]
  },
  {
   "cell_type": "code",
   "execution_count": 3,
   "metadata": {},
   "outputs": [
    {
     "data": {
      "text/plain": [
       "array([178, 182, 177, 183, 181, 182, 181, 179, 174, 180], dtype=int64)"
      ]
     },
     "execution_count": 3,
     "metadata": {},
     "output_type": "execute_result"
    }
   ],
   "source": [
    "np.bincount(y)"
   ]
  },
  {
   "cell_type": "code",
   "execution_count": 4,
   "metadata": {},
   "outputs": [],
   "source": [
    "X_train, X_test, y_train, y_test=train_test_split(X,y, stratify=y,random_state=42 )"
   ]
  },
  {
   "cell_type": "code",
   "execution_count": 5,
   "metadata": {},
   "outputs": [
    {
     "name": "stdout",
     "output_type": "stream",
     "text": [
      "Iteration 1, loss = 12.33831480\n",
      "Iteration 2, loss = 2.08410959\n",
      "Iteration 3, loss = 1.94202157\n",
      "Iteration 4, loss = 1.69071078\n",
      "Iteration 5, loss = 1.54676743\n",
      "Iteration 6, loss = 1.37286032\n",
      "Iteration 7, loss = 1.27965195\n",
      "Iteration 8, loss = 1.31000481\n",
      "Iteration 9, loss = 1.23246534\n",
      "Iteration 10, loss = 1.14802537\n",
      "Iteration 11, loss = 1.55948395\n",
      "Iteration 12, loss = 1.29794836\n",
      "Iteration 13, loss = 1.28633567\n",
      "Iteration 14, loss = 1.21456265\n",
      "Iteration 15, loss = 1.20813454\n",
      "Iteration 16, loss = 1.20163753\n",
      "Iteration 17, loss = 1.15690162\n",
      "Iteration 18, loss = 1.11585345\n",
      "Iteration 19, loss = 1.14949650\n",
      "Iteration 20, loss = 1.10095040\n",
      "Iteration 21, loss = 1.43061896\n",
      "Iteration 22, loss = 1.57976212\n",
      "Iteration 23, loss = 1.26545101\n",
      "Iteration 24, loss = 1.51143214\n",
      "Iteration 25, loss = 1.46340726\n",
      "Iteration 26, loss = 1.73161780\n",
      "Iteration 27, loss = 2.31320431\n",
      "Iteration 28, loss = 2.27389907\n",
      "Iteration 29, loss = 2.42225523\n",
      "Iteration 30, loss = 2.38887564\n",
      "Iteration 31, loss = 2.04956285\n",
      "Training loss did not improve more than tol=0.000100 for 10 consecutive epochs. Stopping.\n",
      "Accuracy: 0.28\n"
     ]
    }
   ],
   "source": [
    "from sklearn.neural_network import MLPClassifier\n",
    "from sklearn.metrics import accuracy_score\n",
    "clf = MLPClassifier(hidden_layer_sizes=(100,), max_iter=1000, alpha=1e-4,\n",
    "                    solver='sgd', verbose=10, tol=1e-4, random_state=1,\n",
    "                    learning_rate_init=.1)\n",
    "\n",
    "# Train the classifier on the training data\n",
    "clf.fit(X_train, y_train)\n",
    "\n",
    "# Predict the labels of the test data\n",
    "y_pred = clf.predict(X_test)\n",
    "\n",
    "# Compute the accuracy of the classifier\n",
    "accuracy = accuracy_score(y_test, y_pred)\n",
    "\n",
    "print(f\"Accuracy: {accuracy:.2f}\")"
   ]
  },
  {
   "cell_type": "code",
   "execution_count": 6,
   "metadata": {},
   "outputs": [
    {
     "name": "stdout",
     "output_type": "stream",
     "text": [
      "Best value of n_neighbors through GridSearch: 3\n"
     ]
    }
   ],
   "source": [
    "from sklearn.model_selection import GridSearchCV\n",
    "# Define the parameter grid\n",
    "param_grid = {'n_neighbors': [3, 5, 7, 9, 11]}\n",
    "\n",
    "# Create a k-nearest neighbors classifier\n",
    "clf = KNeighborsClassifier()\n",
    "\n",
    "# Create a grid search object\n",
    "grid_search = GridSearchCV(clf, param_grid, cv=5)\n",
    "\n",
    "# Fit the grid search object on the data\n",
    "grid_search.fit(X, y)\n",
    "\n",
    "# Print the best value of n_neighbors\n",
    "print(f\"Best value of n_neighbors through GridSearch: {grid_search.best_params_['n_neighbors']}\")"
   ]
  },
  {
   "cell_type": "code",
   "execution_count": 7,
   "metadata": {},
   "outputs": [
    {
     "name": "stdout",
     "output_type": "stream",
     "text": [
      "Score of Accuracy from k-nearest neighbors classifier : 0.984\n",
      "Score of Accuracy from logistic regression classifier: 0.962\n"
     ]
    },
    {
     "name": "stderr",
     "output_type": "stream",
     "text": [
      "C:\\Users\\zohairk\\anaconda3\\lib\\site-packages\\sklearn\\linear_model\\_logistic.py:763: ConvergenceWarning: lbfgs failed to converge (status=1):\n",
      "STOP: TOTAL NO. of ITERATIONS REACHED LIMIT.\n",
      "\n",
      "Increase the number of iterations (max_iter) or scale the data as shown in:\n",
      "    https://scikit-learn.org/stable/modules/preprocessing.html\n",
      "Please also refer to the documentation for alternative solver options:\n",
      "    https://scikit-learn.org/stable/modules/linear_model.html#logistic-regression\n",
      "  n_iter_i = _check_optimize_result(\n"
     ]
    }
   ],
   "source": [
    "# Create a k-nearest neighbors classifier as it is one of the Multiclass classification model\n",
    "clf = KNeighborsClassifier(n_neighbors=3)\n",
    "\n",
    "# Train the classifier on the training data\n",
    "clf.fit(X_train, y_train)\n",
    "\n",
    "# Predict the labels of the test data\n",
    "y_pred = clf.predict(X_test)\n",
    "\n",
    "# Compute the accuracy of the classifier\n",
    "accuracy = clf.score(X_test, y_test)\n",
    "\n",
    "print(f\"Score of Accuracy from k-nearest neighbors classifier : {accuracy:.3f}\")\n",
    "\n",
    "# Create a logistic regression classifier as it is one of the Multiclass classification model\n",
    "clf = LogisticRegression(random_state=42)\n",
    "\n",
    "# Train the classifier on the training data\n",
    "clf.fit(X_train, y_train)\n",
    "\n",
    "# Predict the labels of the test data\n",
    "y_pred = clf.predict(X_test)\n",
    "\n",
    "# Compute the accuracy of the classifier\n",
    "accuracy = clf.score(X_test, y_test)\n",
    "\n",
    "print(f\"Score of Accuracy from logistic regression classifier: {accuracy:.3f}\")"
   ]
  },
  {
   "cell_type": "code",
   "execution_count": null,
   "metadata": {},
   "outputs": [],
   "source": []
  }
 ],
 "metadata": {
  "kernelspec": {
   "display_name": "Python 3",
   "language": "python",
   "name": "python3"
  },
  "language_info": {
   "codemirror_mode": {
    "name": "ipython",
    "version": 3
   },
   "file_extension": ".py",
   "mimetype": "text/x-python",
   "name": "python",
   "nbconvert_exporter": "python",
   "pygments_lexer": "ipython3",
   "version": "3.8.8"
  }
 },
 "nbformat": 4,
 "nbformat_minor": 4
}

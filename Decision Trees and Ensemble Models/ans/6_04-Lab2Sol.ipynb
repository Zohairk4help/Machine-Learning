{
 "cells": [
  {
   "cell_type": "code",
   "execution_count": null,
   "metadata": {
    "jupyter": {
     "outputs_hidden": false
    }
   },
   "outputs": [],
   "source": [
    "%matplotlib inline"
   ]
  },
  {
   "cell_type": "markdown",
   "metadata": {},
   "source": [
    "\n",
    "# Early stopping of Gradient Boosting\n",
    "\n",
    "Gradient boosting is an ensembling technique where several weak learners\n",
    "(regression trees) are combined to yield a powerful single model, in an\n",
    "iterative fashion.\n",
    "\n",
    "Early stopping support in Gradient Boosting enables us to find the least number\n",
    "of iterations which is sufficient to build a model that generalizes well to\n",
    "unseen data.\n",
    "\n",
    "The concept of early stopping is simple. We specify a ``validation_fraction``\n",
    "which denotes the fraction of the whole dataset that will be kept aside from\n",
    "training to assess the validation loss of the model. The gradient boosting\n",
    "model is trained using the training set and evaluated using the validation set.\n",
    "When each additional stage of regression tree is added, the validation set is\n",
    "used to score the model.  This is continued until the scores of the model in\n",
    "the last ``n_iter_no_change`` stages do not improve by atleast `tol`. After\n",
    "that the model is considered to have converged and further addition of stages\n",
    "is \"stopped early\".\n",
    "\n",
    "The number of stages of the final model is available at the attribute\n",
    "``n_estimators_``.\n",
    "\n",
    "This example illustrates how the early stopping can used in the\n",
    ":class:`~sklearn.ensemble.GradientBoostingClassifier` model to achieve\n",
    "almost the same accuracy as compared to a model built without early stopping\n",
    "using many fewer estimators. This can significantly reduce training time,\n",
    "memory usage and prediction latency.\n"
   ]
  },
  {
   "cell_type": "code",
   "execution_count": 1,
   "metadata": {
    "jupyter": {
     "outputs_hidden": false
    }
   },
   "outputs": [],
   "source": [
    "\n",
    "import time\n",
    "\n",
    "import numpy as np\n",
    "import matplotlib.pyplot as plt\n",
    "\n",
    "from sklearn.ensemble import GradientBoostingClassifier\n",
    "from sklearn.datasets import load_digits\n",
    "from sklearn.model_selection import train_test_split\n",
    "\n"
   ]
  },
  {
   "cell_type": "markdown",
   "metadata": {},
   "source": [
    "### Step 1: Load the data\n",
    "- Load digits data set using `load_digits()`\n",
    "- Train `GradientBoostingCLassifier` with and without early stopping\n",
    "- Keep a timer for both cases and report the time it takes to train both models\n",
    "- Report the scores for both models"
   ]
  },
  {
   "cell_type": "code",
   "execution_count": null,
   "metadata": {},
   "outputs": [],
   "source": []
  },
  {
   "cell_type": "code",
   "execution_count": 4,
   "metadata": {},
   "outputs": [],
   "source": [
    "\n",
    "\n",
    "data_list = [load_digits()]\n",
    "data_list = [(d.data, d.target) for d in data_list]\n",
    "\n",
    "names = [ 'Digits Data']\n",
    "\n",
    "n_gb = []\n",
    "score_gb = []\n",
    "time_gb = []\n",
    "n_gbes = []\n",
    "score_gbes = []\n",
    "time_gbes = []\n",
    "\n",
    "n_estimators = 500\n",
    "\n",
    "for X, y in data_list:\n",
    "    X_train, X_test, y_train, y_test = train_test_split(X, y, test_size=0.2,\n",
    "                                                        random_state=0)\n",
    "\n",
    "    # We specify that if the scores don't improve by atleast 0.01 for the last\n",
    "    # 10 stages, stop fitting additional stages\n",
    "    gbes = GradientBoostingClassifier(n_estimators=n_estimators,\n",
    "                                               validation_fraction=0.2,\n",
    "                                               n_iter_no_change=5, tol=0.01,\n",
    "                                               random_state=0)\n",
    "    gb = GradientBoostingClassifier(n_estimators=n_estimators,\n",
    "                                             random_state=0)\n",
    "    start = time.time()\n",
    "    gb.fit(X_train, y_train)\n",
    "    time_gb.append(time.time() - start)\n",
    "\n",
    "    start = time.time()\n",
    "    gbes.fit(X_train, y_train)\n",
    "    time_gbes.append(time.time() - start)\n",
    "\n",
    "    score_gb.append(gb.score(X_test, y_test))\n",
    "    score_gbes.append(gbes.score(X_test, y_test))\n",
    "\n",
    "    n_gb.append(gb.n_estimators_)\n",
    "    n_gbes.append(gbes.n_estimators_)\n",
    "\n",
    "bar_width = 0.2\n",
    "n = len(data_list)\n",
    "index = np.arange(0, n * bar_width, bar_width) * 2.5\n",
    "index = index[0:n]"
   ]
  },
  {
   "cell_type": "markdown",
   "metadata": {},
   "source": [
    "## Compare scores with and without early stopping\n",
    "\n"
   ]
  },
  {
   "cell_type": "code",
   "execution_count": 8,
   "metadata": {
    "jupyter": {
     "outputs_hidden": false
    }
   },
   "outputs": [
    {
     "data": {
      "image/png": "[encoded data removed]",
      "text/plain": [
       "<Figure size 648x360 with 1 Axes>"
      ]
     },
     "metadata": {
      "needs_background": "light"
     },
     "output_type": "display_data"
    }
   ],
   "source": [
    "plt.figure(figsize=(9, 5))\n",
    "\n",
    "bar1 = plt.bar(index, score_gb, bar_width, label='Without early stopping',\n",
    "               color='crimson')\n",
    "bar2 = plt.bar(index + bar_width, score_gbes, bar_width,\n",
    "               label='With early stopping', color='coral')\n",
    "\n",
    "plt.xticks(index + bar_width, names)\n",
    "plt.yticks(np.arange(0, 1.3, 0.1))\n",
    "def autolabel(rects, n_estimators):\n",
    "    \"\"\"\n",
    "    Attach a text label above each bar displaying n_estimators of each model\n",
    "    \"\"\"\n",
    "    for i, rect in enumerate(rects):\n",
    "        plt.text(rect.get_x() + rect.get_width() / 2.,\n",
    "                 1.05 * rect.get_height(), 'n_est=%d' % n_estimators[i],\n",
    "                 ha='center', va='bottom')\n",
    "\n",
    "\n",
    "autolabel(bar1, n_gb)\n",
    "autolabel(bar2, n_gbes)\n",
    "\n",
    "plt.ylim([0, 1.3])\n",
    "plt.legend(loc='best')\n",
    "plt.grid(True)\n",
    "\n",
    "plt.xlabel('Datasets')\n",
    "plt.ylabel('Test score')\n",
    "\n",
    "plt.show()\n",
    "\n"
   ]
  },
  {
   "cell_type": "markdown",
   "metadata": {},
   "source": [
    "## Compare fit times with and without early stopping\n",
    "\n"
   ]
  },
  {
   "cell_type": "code",
   "execution_count": 6,
   "metadata": {
    "jupyter": {
     "outputs_hidden": false
    }
   },
   "outputs": [
    {
     "data": {
      "image/png": "[encoded data removed]",
      "text/plain": [
       "<Figure size 648x360 with 1 Axes>"
      ]
     },
     "metadata": {
      "needs_background": "light"
     },
     "output_type": "display_data"
    }
   ],
   "source": [
    "plt.figure(figsize=(9, 5))\n",
    "\n",
    "bar1 = plt.bar(index, time_gb, bar_width, label='Without early stopping',\n",
    "               color='crimson')\n",
    "bar2 = plt.bar(index + bar_width, time_gbes, bar_width,\n",
    "               label='With early stopping', color='coral')\n",
    "\n",
    "max_y = np.amax(np.maximum(time_gb, time_gbes))\n",
    "\n",
    "plt.xticks(index + bar_width, names)\n",
    "plt.yticks(np.linspace(0, 1.3 * max_y, 13))\n",
    "\n",
    "autolabel(bar1, n_gb)\n",
    "autolabel(bar2, n_gbes)\n",
    "\n",
    "plt.ylim([0, 1.3 * max_y])\n",
    "plt.legend(loc='best')\n",
    "plt.grid(True)\n",
    "\n",
    "plt.xlabel('Datasets')\n",
    "plt.ylabel('Fit Time')\n",
    "\n",
    "plt.show()"
   ]
  },
  {
   "cell_type": "code",
   "execution_count": null,
   "metadata": {},
   "outputs": [],
   "source": []
  }
 ],
 "metadata": {
  "kernelspec": {
   "display_name": "Python 3",
   "language": "python",
   "name": "python3"
  },
  "language_info": {
   "codemirror_mode": {
    "name": "ipython",
    "version": 3
   },
   "file_extension": ".py",
   "mimetype": "text/x-python",
   "name": "python",
   "nbconvert_exporter": "python",
   "pygments_lexer": "ipython3",
   "version": "3.8.8"
  }
 },
 "nbformat": 4,
 "nbformat_minor": 4
}

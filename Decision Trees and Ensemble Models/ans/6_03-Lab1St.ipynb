{
 "cells": [
  {
   "cell_type": "markdown",
   "metadata": {},
   "source": [
    "You will work with data from the [Housing Prices Competition for Kaggle Learn Users](https://www.kaggle.com/c/home-data-for-ml-course). \n",
    "\n",
    "![Ames Housing dataset image](https://i.imgur.com/lTJVG4e.png)\n",
    "\n",
    "### Step 1:\n",
    "- Read the test and train datasets\n",
    "- Separate the `SalePrice` as target variable\n",
    "- Create a train and validation dataset from the train dataset that you created in the first step\n",
    "- Check if you have any categorical features\n",
    "- Check if you have any numerical features"
   ]
  },
  {
   "cell_type": "code",
   "execution_count": null,
   "metadata": {},
   "outputs": [],
   "source": []
  },
  {
   "cell_type": "markdown",
   "metadata": {},
   "source": [
    "### Step 2:\n",
    "- Create a pipeline of `SimpleImputer` and `StandardScaler` transformers for the numerical data\n",
    "- Create a `SimpleImputer` and `OneHotEncoder` for the categorical data\n",
    "- Bundle the pre-processing steps into a column transformer\n",
    "- Create a RandomForestRegressor"
   ]
  },
  {
   "cell_type": "code",
   "execution_count": null,
   "metadata": {},
   "outputs": [],
   "source": []
  }
 ],
 "metadata": {
  "kernelspec": {
   "display_name": "Python 3",
   "language": "python",
   "name": "python3"
  },
  "language_info": {
   "codemirror_mode": {
    "name": "ipython",
    "version": 3
   },
   "file_extension": ".py",
   "mimetype": "text/x-python",
   "name": "python",
   "nbconvert_exporter": "python",
   "pygments_lexer": "ipython3",
   "version": "3.8.3"
  }
 },
 "nbformat": 4,
 "nbformat_minor": 4
}

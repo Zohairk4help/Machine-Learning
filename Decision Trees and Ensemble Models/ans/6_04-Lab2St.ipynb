{
 "cells": [
  {
   "cell_type": "code",
   "execution_count": null,
   "metadata": {
    "collapsed": false,
    "jupyter": {
     "outputs_hidden": false
    }
   },
   "outputs": [],
   "source": [
    "%matplotlib inline"
   ]
  },
  {
   "cell_type": "markdown",
   "metadata": {},
   "source": [
    "\n",
    "# Early stopping of Gradient Boosting\n",
    "\n",
    "Gradient boosting is an ensembling technique where several weak learners\n",
    "(regression trees) are combined to yield a powerful single model, in an\n",
    "iterative fashion.\n",
    "\n",
    "Early stopping support in Gradient Boosting enables us to find the least number\n",
    "of iterations which is sufficient to build a model that generalizes well to\n",
    "unseen data.\n",
    "\n",
    "The concept of early stopping is simple. We specify a ``validation_fraction``\n",
    "which denotes the fraction of the whole dataset that will be kept aside from\n",
    "training to assess the validation loss of the model. The gradient boosting\n",
    "model is trained using the training set and evaluated using the validation set.\n",
    "When each additional stage of regression tree is added, the validation set is\n",
    "used to score the model.  This is continued until the scores of the model in\n",
    "the last ``n_iter_no_change`` stages do not improve by atleast `tol`. After\n",
    "that the model is considered to have converged and further addition of stages\n",
    "is \"stopped early\".\n",
    "\n",
    "The number of stages of the final model is available at the attribute\n",
    "``n_estimators_``.\n",
    "\n",
    "This example illustrates how the early stopping can used in the\n",
    ":class:`~sklearn.ensemble.GradientBoostingClassifier` model to achieve\n",
    "almost the same accuracy as compared to a model built without early stopping\n",
    "using many fewer estimators. This can significantly reduce training time,\n",
    "memory usage and prediction latency.\n"
   ]
  },
  {
   "cell_type": "code",
   "execution_count": 1,
   "metadata": {
    "collapsed": false,
    "jupyter": {
     "outputs_hidden": false
    }
   },
   "outputs": [],
   "source": [
    "\n",
    "import time\n",
    "\n",
    "import numpy as np\n",
    "import matplotlib.pyplot as plt\n",
    "\n",
    "from sklearn.ensemble import GradientBoostingClassifier\n",
    "from sklearn.datasets import load_digits\n",
    "from sklearn.model_selection import train_test_split\n",
    "\n"
   ]
  },
  {
   "cell_type": "markdown",
   "metadata": {},
   "source": [
    "\n",
    "- Load digits data set using `load_digits()`\n",
    "- Train `GradientBoostingCLassifier` with and without early stopping\n",
    "- Keep a timer for both cases and report the time it takes to train both models\n",
    "- Report the scores for both models"
   ]
  },
  {
   "cell_type": "code",
   "execution_count": null,
   "metadata": {},
   "outputs": [],
   "source": []
  }
 ],
 "metadata": {
  "kernelspec": {
   "display_name": "Python 3",
   "language": "python",
   "name": "python3"
  },
  "language_info": {
   "codemirror_mode": {
    "name": "ipython",
    "version": 3
   },
   "file_extension": ".py",
   "mimetype": "text/x-python",
   "name": "python",
   "nbconvert_exporter": "python",
   "pygments_lexer": "ipython3",
   "version": "3.8.3"
  }
 },
 "nbformat": 4,
 "nbformat_minor": 4
}

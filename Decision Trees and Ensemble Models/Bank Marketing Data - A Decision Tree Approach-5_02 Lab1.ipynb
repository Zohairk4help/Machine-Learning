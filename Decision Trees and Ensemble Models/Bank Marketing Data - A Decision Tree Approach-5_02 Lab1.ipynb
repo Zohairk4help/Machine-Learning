{
 "cells": [
  {
   "cell_type": "code",
   "execution_count": 1,
   "id": "c12d1e53",
   "metadata": {},
   "outputs": [],
   "source": [
    "import pandas as pd\n",
    "import numpy as np\n",
    "import matplotlib.pyplot as plt\n",
    "from sklearn.model_selection import train_test_split\n",
    "from sklearn.tree import DecisionTreeClassifier\n",
    "from sklearn.impute import SimpleImputer\n",
    "from sklearn.preprocessing import OneHotEncoder, StandardScaler, LabelEncoder\n",
    "from sklearn.pipeline import Pipeline\n",
    "from sklearn.compose import ColumnTransformer\n",
    "from sklearn import metrics\n",
    "%matplotlib inline"
   ]
  },
  {
   "cell_type": "markdown",
   "id": "d7165c70",
   "metadata": {},
   "source": [
    "# Aim:\n",
    "The aim of this attempt is to predict if the client will subscribe (yes/no) to a term deposit, by building a classification model using Decision Tree."
   ]
  },
  {
   "cell_type": "code",
   "execution_count": 2,
   "id": "04535318",
   "metadata": {
    "scrolled": true
   },
   "outputs": [
    {
     "name": "stdout",
     "output_type": "stream",
     "text": [
      "age          0\n",
      "job          0\n",
      "marital      0\n",
      "education    0\n",
      "default      0\n",
      "balance      0\n",
      "housing      0\n",
      "loan         0\n",
      "contact      0\n",
      "day          0\n",
      "month        0\n",
      "duration     0\n",
      "campaign     0\n",
      "pdays        0\n",
      "previous     0\n",
      "poutcome     0\n",
      "deposit      0\n",
      "dtype: int64\n",
      "total number of Rows and Columns in the dataframe:  (11162, 17)\n"
     ]
    },
    {
     "data": {
      "text/plain": [
       "age          [59, 56, 41, 55, 54, 42, 60, 37, 28, 38, 30, 2...\n",
       "job          [admin., technician, services, management, ret...\n",
       "marital                            [married, single, divorced]\n",
       "education              [secondary, tertiary, primary, unknown]\n",
       "default                                              [no, yes]\n",
       "balance      [2343, 45, 1270, 2476, 184, 0, 830, 545, 1, 50...\n",
       "housing                                              [yes, no]\n",
       "loan                                                 [no, yes]\n",
       "contact                         [unknown, cellular, telephone]\n",
       "day          [5, 6, 7, 8, 9, 12, 13, 14, 15, 16, 19, 20, 21...\n",
       "month        [may, jun, jul, aug, oct, nov, dec, jan, feb, ...\n",
       "duration     [1042, 1467, 1389, 579, 673, 562, 1201, 1030, ...\n",
       "campaign     [1, 2, 3, 4, 6, 5, 8, 11, 9, 10, 15, 12, 14, 7...\n",
       "pdays        [-1, 166, 91, 147, 170, 150, 171, 126, 182, 11...\n",
       "previous     [0, 1, 4, 2, 3, 10, 7, 9, 5, 29, 6, 13, 17, 8,...\n",
       "poutcome                    [unknown, other, failure, success]\n",
       "deposit                                              [yes, no]\n",
       "dtype: object"
      ]
     },
     "execution_count": 2,
     "metadata": {},
     "output_type": "execute_result"
    }
   ],
   "source": [
    "BANK_df = pd.read_csv('bank.csv')\n",
    "print(BANK_df.isnull().sum())\n",
    "print(\"total number of Rows and Columns in the dataframe: \" , BANK_df.shape)\n",
    "unique_values = pd.Series({col: BANK_df[col].unique() for col in BANK_df})\n",
    "unique_values"
   ]
  },
  {
   "cell_type": "code",
   "execution_count": 3,
   "id": "91705e8d",
   "metadata": {
    "scrolled": true
   },
   "outputs": [
    {
     "name": "stdout",
     "output_type": "stream",
     "text": [
      "1.0 Regression scores for the X-train variables, such as: 'job','marital','education','default','housing','loan',\n",
      " 'contact','month', 'poutcome', 'age','balance', 'day', 'duration','campaign', \n",
      " 'pdays', and 'previous' wrt y-variable, deposit'\n",
      "(11162,) y shape\n",
      "(11162, 51) X shape\n"
     ]
    }
   ],
   "source": [
    "from sklearn.compose import ColumnTransformer,make_column_transformer\n",
    "#%pip install -U scikit-learn\n",
    "categorical_columns=['job','marital','education','default','housing','loan','contact','month', 'poutcome']\n",
    "\n",
    "numeric_columns=['age','balance', 'day', 'duration','campaign', 'pdays', 'previous']     \n",
    "                 \n",
    "\n",
    "X = BANK_df.drop(columns=[\"deposit\"])\n",
    "y = BANK_df[\"deposit\"]\n",
    "\n",
    "ct = ColumnTransformer(\n",
    "    [\n",
    "        ('scaling', StandardScaler(), numeric_columns),\n",
    "        ('onehot', OneHotEncoder(sparse=False), categorical_columns),\n",
    "    ]\n",
    ")\n",
    "\n",
    "ct = make_column_transformer(\n",
    "    (StandardScaler(), numeric_columns),\n",
    "    (OneHotEncoder(sparse=False), categorical_columns),\n",
    ")\n",
    "\n",
    "transformed = ct.fit_transform(X)\n",
    "\n",
    "\n",
    "column_names = (\n",
    "    numeric_columns    \n",
    "    + ct.named_transformers_[\"onehotencoder\"].get_feature_names_out().tolist()\n",
    ")\n",
    "\n",
    "# then creating a dataframe outof the transformed columns to put them in ML\n",
    "X = pd.DataFrame(transformed, columns=column_names)\n",
    "\n",
    "from sklearn.model_selection import train_test_split\n",
    "from sklearn.neighbors import KNeighborsClassifier\n",
    "from sklearn.ensemble import RandomForestClassifier\n",
    "from sklearn.svm import SVC\n",
    "from sklearn.pipeline import make_pipeline\n",
    "from sklearn.preprocessing import StandardScaler\n",
    "\n",
    "X_train, X_test, y_train, y_test=train_test_split(X,y)\n",
    "RF = RandomForestClassifier().fit(X_train, y_train)\n",
    "\n",
    "print(RF.score(X_train, y_train), \n",
    "     \"Regression scores for the X-train variables, such as: 'job','marital','education','default','housing','loan',\\n 'contact','month', 'poutcome', 'age','balance', 'day', 'duration','campaign', \\n 'pdays', and 'previous' wrt y-variable, deposit'\")\n",
    "\n",
    "# watched column transformer video for reference: https://youtu.be/to2mukSyvLk?si=QpwbIdoKrznloz-y\n",
    "\n",
    "print(y.shape, 'y shape')\n",
    "print(X.shape, 'X shape')"
   ]
  },
  {
   "cell_type": "code",
   "execution_count": 4,
   "id": "a1150588",
   "metadata": {},
   "outputs": [
    {
     "name": "stdout",
     "output_type": "stream",
     "text": [
      "Testing score:  0.8412755284844142\n"
     ]
    }
   ],
   "source": [
    "score_test =RF.score(X_test, y_test)\n",
    "print(\"Testing score: \",score_test)"
   ]
  }
 ],
 "metadata": {
  "kernelspec": {
   "display_name": "PythonData",
   "language": "python",
   "name": "pythondata"
  },
  "language_info": {
   "codemirror_mode": {
    "name": "ipython",
    "version": 3
   },
   "file_extension": ".py",
   "mimetype": "text/x-python",
   "name": "python",
   "nbconvert_exporter": "python",
   "pygments_lexer": "ipython3",
   "version": "3.7.10"
  }
 },
 "nbformat": 4,
 "nbformat_minor": 5
}

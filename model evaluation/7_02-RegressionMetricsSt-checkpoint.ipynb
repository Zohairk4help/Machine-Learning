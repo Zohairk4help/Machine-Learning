{
 "cells": [
  {
   "cell_type": "markdown",
   "metadata": {},
   "source": [
    "### Step 1: Regression metrics\n",
    "- Import Boston dataset using `from sklearn.datasets import load_boston`\n",
    "- Split the dataset into train and test datasets\n",
    "- Fit a Ridge model on the train dataset\n",
    "- Predict the house prices for the test dataset\n",
    "- Create a scatter plot of your predictions versus `y_test`\n",
    "- Subtract the predicted values from the true label values and create a scatter plot of the residual\n",
    "- Create a histogram of the residual\n",
    "- Create a scatter plot of the residual versus features\n"
   ]
  },
  {
   "cell_type": "code",
   "execution_count": null,
   "metadata": {},
   "outputs": [],
   "source": []
  },
  {
   "cell_type": "markdown",
   "metadata": {},
   "source": [
    "### Step 2: MAPE\n",
    "- Create a function to find the MAPE, Mean Absolute Percentage Error\n",
    "- Take the second feature from your test dataset and plot your true and predicted target variable values versus this feature\n",
    "- Find MAPE for the last and the first data point in your feature vector"
   ]
  },
  {
   "cell_type": "code",
   "execution_count": null,
   "metadata": {},
   "outputs": [],
   "source": []
  }
 ],
 "metadata": {
  "kernelspec": {
   "display_name": "Python 3",
   "language": "python",
   "name": "python3"
  },
  "language_info": {
   "codemirror_mode": {
    "name": "ipython",
    "version": 3
   },
   "file_extension": ".py",
   "mimetype": "text/x-python",
   "name": "python",
   "nbconvert_exporter": "python",
   "pygments_lexer": "ipython3",
   "version": "3.6.10"
  }
 },
 "nbformat": 4,
 "nbformat_minor": 4
}

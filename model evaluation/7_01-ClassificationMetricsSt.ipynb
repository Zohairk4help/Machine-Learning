{
 "cells": [
  {
   "cell_type": "code",
   "execution_count": 1,
   "metadata": {},
   "outputs": [],
   "source": [
    "import numpy as np\n",
    "import matplotlib.pyplot as plt\n",
    "%matplotlib inline\n",
    "plt.rcParams[\"savefig.dpi\"] = 300\n",
    "plt.rcParams[\"savefig.bbox\"] = 'tight'\n",
    "import sklearn\n",
    "sklearn.set_config(print_changed_only=True)\n",
    "np.set_printoptions(precision=3, suppress=True)\n",
    "import pandas as pd\n",
    "from sklearn.model_selection import train_test_split, cross_val_score\n",
    "from sklearn.pipeline import make_pipeline\n",
    "from sklearn.preprocessing import scale, StandardScaler"
   ]
  },
  {
   "cell_type": "markdown",
   "metadata": {},
   "source": [
    "### Step 1: An Implementation of Confusion Matrix\n",
    "- Load the breast cancer dataset using `load_breast_cancer()` from `from sklearn.datasets import load_breast_cancer`\n",
    "- Split the data into train and test datasets\n",
    "- Fit a logistic regression model\n",
    "- Predict the target variable values for the test dataset\n",
    "- Create the confusion matrix using `confusion_matrix` from `from sklearn.metrics import confusion_matrix`\n",
    "- Plot the confusion matrix using `plot_confusion_matrix` from `from sklearn.metrics import  plot_confusion_matrix`"
   ]
  },
  {
   "cell_type": "code",
   "execution_count": null,
   "metadata": {},
   "outputs": [],
   "source": []
  },
  {
   "cell_type": "markdown",
   "metadata": {},
   "source": [
    "### Step 2: Problems with accuracy and unbalanced data\n",
    "- Create a numpy array of 100 zeros, assign the first 10 elements to zero, and name it the true label as `y_true`\n",
    "- Create a numpy array of 100 zeros, name it as `y_pred_1`. This will be the first prediction set of the true labels\n",
    "- Copy `y_true` to a new variable called `y_pred_2` and assign the elements between 10 and 20 to 1. This will be the second prediction set of the true labels.\n",
    "- Copy `y_true` to a new variable called `y_pred_3` and subtract the elements between 5 and 15 from 1. This will be the third prediction set of the true labels."
   ]
  },
  {
   "cell_type": "code",
   "execution_count": null,
   "metadata": {},
   "outputs": [],
   "source": []
  },
  {
   "cell_type": "markdown",
   "metadata": {},
   "source": [
    "- Check the accuracy score for each prediction set using `accuracy_score` from `sklearn.metrics`"
   ]
  },
  {
   "cell_type": "code",
   "execution_count": null,
   "metadata": {},
   "outputs": [],
   "source": []
  },
  {
   "cell_type": "markdown",
   "metadata": {},
   "source": [
    "- Create the confusion matrix and plot it for each prediction set"
   ]
  },
  {
   "cell_type": "code",
   "execution_count": null,
   "metadata": {},
   "outputs": [],
   "source": []
  },
  {
   "cell_type": "markdown",
   "metadata": {},
   "source": [
    "- Print the classification report, `classification_report` from `sklearn.metrics` for each prediction set"
   ]
  },
  {
   "cell_type": "code",
   "execution_count": null,
   "metadata": {},
   "outputs": [],
   "source": []
  },
  {
   "cell_type": "markdown",
   "metadata": {},
   "source": [
    "### Step 3: Impact of Changing the Prediction Threshold\n",
    "- Load the breast cancer data set\n",
    "- Split the data into train and test datasets\n",
    "- Fit a logistic regression model, predict the test dataset and print the classification report\n",
    "- Make another prediction, using a threshold of 0.85 and print the clasification report. Observe the difference."
   ]
  },
  {
   "cell_type": "code",
   "execution_count": null,
   "metadata": {},
   "outputs": [],
   "source": []
  },
  {
   "cell_type": "markdown",
   "metadata": {},
   "source": [
    "### Step 4: Precision recall curves\n",
    "- Run the first cell below to import the mammography data set\n",
    "- Split the dataset into train and test datasets\n",
    "- Fit a `SVC()` model on the train dataset\n",
    "- Test the model on the test dataset\n",
    "- Now create a pipeline of a standard scaler and SVC with `C=1000` and `gamma=0.01`\n",
    "- Fit the model on the train dataset and test it on the test dataset. Can you see any difference?"
   ]
  },
  {
   "cell_type": "code",
   "execution_count": null,
   "metadata": {},
   "outputs": [],
   "source": []
  },
  {
   "cell_type": "markdown",
   "metadata": {},
   "source": [
    "- Now create a grid search, with `C=np.logspace(-3,3,7)` and `gamma=np.logspace(-6,0,7)`\n",
    "- When creating the grid search, use `scoring='average_precision'\n",
    "- Fit the grid object on the train dataset\n",
    "- Print the best parameter values and the best score"
   ]
  },
  {
   "cell_type": "code",
   "execution_count": null,
   "metadata": {},
   "outputs": [],
   "source": []
  },
  {
   "cell_type": "markdown",
   "metadata": {},
   "source": [
    "- Use `from sklearn.metrics import plot_precision_recall_curve, precision_recall_fscore_support`\n",
    "- Plot the precision and recall curve for the SVC model you created above\n",
    "- Find the precision and recall for your prediction of the test dataset and mark it on your precision and recall curve"
   ]
  },
  {
   "cell_type": "code",
   "execution_count": null,
   "metadata": {},
   "outputs": [],
   "source": []
  },
  {
   "cell_type": "markdown",
   "metadata": {},
   "source": [
    "- Repeat the step above for a random forest classifier. Choose `max_features=2`\n",
    "- Show both SVC and random forest classifier curves on the same plot"
   ]
  },
  {
   "cell_type": "code",
   "execution_count": null,
   "metadata": {},
   "outputs": [],
   "source": []
  },
  {
   "cell_type": "markdown",
   "metadata": {},
   "source": [
    "### Step:5 ROC CURVE\n",
    "- Use `from sklearn.metrics import plot_roc_curve`\n",
    "- Create the confusion matrix for both SVC and RF models\n",
    "- Plot the ROC curve for both classifiers"
   ]
  },
  {
   "cell_type": "code",
   "execution_count": null,
   "metadata": {},
   "outputs": [],
   "source": []
  },
  {
   "cell_type": "markdown",
   "metadata": {},
   "source": [
    "### Step 6: Confusion Matrix for Multi-class\n",
    "- Load the digits dataset using `from sklearn.datasets import load_digits`\n",
    "- Split the dataset into test and train dataset\n",
    "- Fit a logistic regressor on the train dataset\n",
    "- Make prediction for the test dataset\n",
    "- Print the accuracy, the confusion matrix, and the classification report for the predictions"
   ]
  },
  {
   "cell_type": "code",
   "execution_count": null,
   "metadata": {},
   "outputs": [],
   "source": []
  },
  {
   "cell_type": "markdown",
   "metadata": {},
   "source": [
    "### Step 7: ROC AUC with cross-validation\n",
    "- Run the cell below to create random dataset of blobs\n",
    "- Split the dataset into train and test datasets\n",
    "- Use cross validation with SVC\n",
    "- Use cross validation with `scoring='roc_auc'`\n",
    "- Print the scores for the regular cross validation and cross validation with ROC"
   ]
  },
  {
   "cell_type": "code",
   "execution_count": null,
   "metadata": {},
   "outputs": [],
   "source": []
  }
 ],
 "metadata": {
  "kernelspec": {
   "display_name": "Python 3 (ipykernel)",
   "language": "python",
   "name": "python3"
  },
  "language_info": {
   "codemirror_mode": {
    "name": "ipython",
    "version": 3
   },
   "file_extension": ".py",
   "mimetype": "text/x-python",
   "name": "python",
   "nbconvert_exporter": "python",
   "pygments_lexer": "ipython3",
   "version": "3.8.5"
  }
 },
 "nbformat": 4,
 "nbformat_minor": 4
}
